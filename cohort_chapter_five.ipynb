{
 "cells": [
  {
   "cell_type": "markdown",
   "id": "robust-feeling",
   "metadata": {},
   "source": [
    "# Chapter 5 - Practice Exercises"
   ]
  },
  {
   "cell_type": "markdown",
   "id": "technological-trailer",
   "metadata": {},
   "source": [
    "# Exercises\n",
    "### 1. Create a hello_world.py file and execute it with Python. "
   ]
  },
  {
   "cell_type": "code",
   "execution_count": 1,
   "id": "informative-stretch",
   "metadata": {},
   "outputs": [],
   "source": [
    "# not sure how I'll do this one in a notebook yet"
   ]
  },
  {
   "cell_type": "markdown",
   "id": "pregnant-string",
   "metadata": {},
   "source": [
    "### 2. Write a program that requests a number from the user. Have the program print \"Even\" or \"Odd\" depending on whether they entered an even or odd number."
   ]
  },
  {
   "cell_type": "code",
   "execution_count": 8,
   "id": "academic-semiconductor",
   "metadata": {},
   "outputs": [
    {
     "name": "stdout",
     "output_type": "stream",
     "text": [
      "Enter a number: 345432\n",
      "Your number, 345432, is even.\n"
     ]
    }
   ],
   "source": [
    "num = int(input('Enter a number: '))\n",
    "if num % 2 == 0:\n",
    "    print(f'Your number, {num}, is even.')\n",
    "else:\n",
    "    print(f'Your number, {num}, is odd.')"
   ]
  },
  {
   "cell_type": "markdown",
   "id": "given-biotechnology",
   "metadata": {},
   "source": [
    "### 3. Extend the program above to repeatedly ask that question as long as the user enters a nonzero number. But if they enter 0, it should then stop asking and say goodbye."
   ]
  },
  {
   "cell_type": "code",
   "execution_count": 30,
   "id": "willing-singing",
   "metadata": {},
   "outputs": [
    {
     "name": "stdout",
     "output_type": "stream",
     "text": [
      "Enter a number: 2\n",
      "Your number, 2, is even.\n",
      "Enter a number: 3\n",
      "Your number, 3, is odd.\n",
      "Enter a number: 4\n",
      "Your number, 4, is even.\n",
      "Enter a number: 5\n",
      "Your number, 5, is odd.\n",
      "Enter a number: 7\n",
      "Your number, 7, is odd.\n",
      "Enter a number: 8\n",
      "Your number, 8, is even.\n",
      "Enter a number: 9\n",
      "Your number, 9, is odd.\n",
      "Enter a number: 0\n",
      "Goodbye.\n"
     ]
    }
   ],
   "source": [
    "num = int(input('Enter a number: '))\n",
    "while num:\n",
    "    if num % 2 == 0:\n",
    "        print(f'Your number, {num}, is even.')\n",
    "    else:\n",
    "        print(f'Your number, {num}, is odd.')\n",
    "    num = int(input('Enter a number: '))\n",
    "print(f'Goodbye.')"
   ]
  },
  {
   "cell_type": "markdown",
   "id": "other-warrior",
   "metadata": {},
   "source": [
    "### 4. Take one of these sets of code and visualize them with [pythontutor.com](https://pythontutor.com)"
   ]
  },
  {
   "cell_type": "markdown",
   "id": "alternate-paint",
   "metadata": {},
   "source": [
    "See my visualization [here](http://pythontutor.com/visualize.html#code=num%20%3D%20int%28input%28'Enter%20a%20number%3A%20'%29%29%0Awhile%20num%3A%0A%20%20%20%20if%20num%20%25%202%20%3D%3D%200%3A%0A%20%20%20%20%20%20%20%20print%28f'Your%20number,%20%7Bnum%7D,%20is%20even.'%29%0A%20%20%20%20else%3A%0A%20%20%20%20%20%20%20%20print%28f'Your%20number,%20%7Bnum%7D,%20is%20odd.'%29%0A%20%20%20%20num%20%3D%20int%28input%28'Enter%20a%20number%3A%20'%29%29%0Aprint%28f'Goodbye.'%29&cumulative=false&curInstr=1&heapPrimitives=true&mode=display&origin=opt-frontend.js&py=3&rawInputLstJSON=%5B%221%22%5D&textReferences=false)."
   ]
  },
  {
   "cell_type": "code",
   "execution_count": null,
   "id": "becoming-sweet",
   "metadata": {},
   "outputs": [],
   "source": []
  }
 ],
 "metadata": {
  "kernelspec": {
   "display_name": "Python 3",
   "language": "python",
   "name": "python3"
  },
  "language_info": {
   "codemirror_mode": {
    "name": "ipython",
    "version": 3
   },
   "file_extension": ".py",
   "mimetype": "text/x-python",
   "name": "python",
   "nbconvert_exporter": "python",
   "pygments_lexer": "ipython3",
   "version": "3.9.1"
  }
 },
 "nbformat": 4,
 "nbformat_minor": 5
}
