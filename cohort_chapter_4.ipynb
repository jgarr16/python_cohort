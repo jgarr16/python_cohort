{
 "cells": [
  {
   "cell_type": "markdown",
   "id": "robust-feeling",
   "metadata": {},
   "source": [
    "# Chapter 4 - Practice Exercises"
   ]
  },
  {
   "cell_type": "markdown",
   "id": "refined-movement",
   "metadata": {},
   "source": [
    "### Using built-in libraries"
   ]
  },
  {
   "cell_type": "code",
   "execution_count": 6,
   "id": "formal-gathering",
   "metadata": {},
   "outputs": [
    {
     "name": "stdout",
     "output_type": "stream",
     "text": [
      "The current version of Python is 3.9\n"
     ]
    }
   ],
   "source": [
    "import sys\n",
    "major = sys.version_info.major\n",
    "minor = sys.version_info.minor\n",
    "print(f\"The current version of Python is {major}.{minor}\") # don't try to use \"min\" as a variable name; it seems to be the name of a built-in variable"
   ]
  },
  {
   "cell_type": "markdown",
   "id": "assigned-novel",
   "metadata": {},
   "source": [
    "### Getting input from users"
   ]
  },
  {
   "cell_type": "code",
   "execution_count": 7,
   "id": "aging-metro",
   "metadata": {},
   "outputs": [
    {
     "name": "stdout",
     "output_type": "stream",
     "text": [
      "What is your name? John\n",
      "Hello, John\n"
     ]
    }
   ],
   "source": [
    "name = input(\"What is your name? \")\n",
    "print(f\"Hello, {name}\")"
   ]
  },
  {
   "cell_type": "markdown",
   "id": "frank-opinion",
   "metadata": {},
   "source": [
    "### Converting data"
   ]
  },
  {
   "cell_type": "code",
   "execution_count": 8,
   "id": "fancy-apple",
   "metadata": {},
   "outputs": [
    {
     "name": "stdout",
     "output_type": "stream",
     "text": [
      "number = 7.2\n",
      "whole_number = 7\n"
     ]
    }
   ],
   "source": [
    "text = '7.2'\n",
    "number = float(text) # type(number) = float, value = 7.2\n",
    "whole_number = int(number) # type(number) = int, value = 7\n",
    "print(f'number = {number}\\nwhole_number = {whole_number}')"
   ]
  },
  {
   "cell_type": "markdown",
   "id": "technological-trailer",
   "metadata": {},
   "source": [
    "# Exercises\n",
    "### 1. Run the Python REPL and verify you have Python 3.6 or higher."
   ]
  },
  {
   "cell_type": "code",
   "execution_count": 10,
   "id": "informative-stretch",
   "metadata": {},
   "outputs": [
    {
     "name": "stdout",
     "output_type": "stream",
     "text": [
      "Okay, I'm kind'a cheating because I'm using Jupyter, but...\n",
      "The current version of Python is 3.9\n"
     ]
    }
   ],
   "source": [
    "import sys\n",
    "major = sys.version_info.major\n",
    "minor = sys.version_info.minor\n",
    "print(f\"Okay, I'm kind'a cheating because I'm using Jupyter, but...\\nThe current version of Python is {major}.{minor}\")"
   ]
  },
  {
   "cell_type": "markdown",
   "id": "pregnant-string",
   "metadata": {},
   "source": [
    "### 2. Create a variable which is a whole number, compute the square and cube of it (i.e. x^2 and x^3, although that is not the Python code needed)."
   ]
  },
  {
   "cell_type": "code",
   "execution_count": 16,
   "id": "academic-semiconductor",
   "metadata": {},
   "outputs": [
    {
     "name": "stdout",
     "output_type": "stream",
     "text": [
      "The whole number is 3\n",
      "The number squared is 9\n",
      "The number cubed is 27\n"
     ]
    }
   ],
   "source": [
    "whole_num = 3\n",
    "squared = whole_num**2\n",
    "cubed = whole_num**3\n",
    "print(f'The whole number is {whole_num}\\nThe number squared is {squared}\\nThe number cubed is {cubed}')"
   ]
  },
  {
   "cell_type": "markdown",
   "id": "given-biotechnology",
   "metadata": {},
   "source": [
    "### 3. Ask a user for their name and age. Write code to tell them how many years you are older than them (negative numbers for younger is fine at this point)."
   ]
  },
  {
   "cell_type": "code",
   "execution_count": 21,
   "id": "willing-singing",
   "metadata": {},
   "outputs": [
    {
     "name": "stdout",
     "output_type": "stream",
     "text": [
      "What is your name? Jimmy\n",
      "How old are you? 32\n",
      "Well, Jimmy, it seems that I am 12 years older than you are.\n"
     ]
    }
   ],
   "source": [
    "name = input(\"What is your name? \")\n",
    "age = input(\"How old are you? \")\n",
    "my_age = 44\n",
    "difference = my_age - int(age)\n",
    "print(f'Well, {name}, it seems that I am {difference} years older than you are.')"
   ]
  },
  {
   "cell_type": "markdown",
   "id": "statutory-floating",
   "metadata": {},
   "source": [
    "### 4. Use the built-in library datetime and the function datetime.datetime.now() to determine the current year and print that to REPL using an f-string."
   ]
  },
  {
   "cell_type": "code",
   "execution_count": 24,
   "id": "sharp-logging",
   "metadata": {},
   "outputs": [
    {
     "name": "stdout",
     "output_type": "stream",
     "text": [
      "The current date/time is: 2021-05-12 22:21:48.341853\n"
     ]
    }
   ],
   "source": [
    "import datetime\n",
    "print(f'The current date/time is: {datetime.datetime.now()}')"
   ]
  },
  {
   "cell_type": "markdown",
   "id": "other-warrior",
   "metadata": {},
   "source": [
    "### 5. Take one of these sets of code and visualize them with [pythontutor.com](https://pythontutor.com)"
   ]
  },
  {
   "cell_type": "markdown",
   "id": "alternate-paint",
   "metadata": {},
   "source": [
    "See my visualization [here](http://pythontutor.com/visualize.html#code=whole_num%20%3D%203%0Asquared%20%3D%20whole_num**2%0Acubed%20%3D%20whole_num**3%0Aprint%28f'The%20whole%20number%20is%20%7Bwhole_num%7D%5CnThe%20number%20squared%20is%20%7Bsquared%7D%5CnThe%20number%20cubed%20is%20%7Bcubed%7D'%29&cumulative=false&curInstr=4&heapPrimitives=true&mode=display&origin=opt-frontend.js&py=3&rawInputLstJSON=%5B%5D&textReferences=false)."
   ]
  },
  {
   "cell_type": "code",
   "execution_count": null,
   "id": "becoming-sweet",
   "metadata": {},
   "outputs": [],
   "source": []
  }
 ],
 "metadata": {
  "kernelspec": {
   "display_name": "Python 3",
   "language": "python",
   "name": "python3"
  },
  "language_info": {
   "codemirror_mode": {
    "name": "ipython",
    "version": 3
   },
   "file_extension": ".py",
   "mimetype": "text/x-python",
   "name": "python",
   "nbconvert_exporter": "python",
   "pygments_lexer": "ipython3",
   "version": "3.9.1"
  }
 },
 "nbformat": 4,
 "nbformat_minor": 5
}
